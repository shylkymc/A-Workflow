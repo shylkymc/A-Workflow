{
 "cells": [
  {
   "cell_type": "markdown",
   "metadata": {},
   "source": [
    "# A Workflow on the Titanic Data Set for Kaggle Competition"
   ]
  },
  {
   "cell_type": "markdown",
   "metadata": {},
   "source": [
    "In this project, I will work with two data files from [Kaggle](\"https://www.kaggle.com/c/titanic/data\"), which is a competition. I have \"train\" and \"test\" data sets. The train data set is used to train my model to predict the people who survived. The test data set is used to test my model on it. The train data set has the column with information about survival data. However, the test data set doesn't have any columns about survival information. The [Kaggle](\"https://www.kaggle.com/c/titanic/data\") web page has more information about the columns. \n",
    "<br>\n",
    "<br>\n",
    "I will train my model and attach my prediction on Kaggle's website to see my model's performance.\n",
    "<br> \n",
    "In the first step, I am going to start with exploring the data files. "
   ]
  },
  {
   "cell_type": "markdown",
   "metadata": {},
   "source": [
    "## Exploring the Data"
   ]
  },
  {
   "cell_type": "code",
   "execution_count": 1,
   "metadata": {},
   "outputs": [
    {
     "data": {
      "text/plain": [
       "(418, 11)"
      ]
     },
     "execution_count": 1,
     "metadata": {},
     "output_type": "execute_result"
    }
   ],
   "source": [
    "import pandas as pd  # I will open the sets with Pandas.\n",
    "\n",
    "train=pd.read_csv(\"train.csv\")\n",
    "holdout= pd.read_csv(\"test.csv\")\n",
    "test_shape = holdout.shape\n",
    "test_shape"
   ]
  },
  {
   "cell_type": "code",
   "execution_count": 2,
   "metadata": {},
   "outputs": [
    {
     "data": {
      "text/plain": [
       "(891, 12)"
      ]
     },
     "execution_count": 2,
     "metadata": {},
     "output_type": "execute_result"
    }
   ],
   "source": [
    "train_shape= train.shape\n",
    "train_shape"
   ]
  },
  {
   "cell_type": "markdown",
   "metadata": {},
   "source": [
    "The test data set has 418 entries and 11 columns. The train data set has 891 entries and 12 columns. The \"Survived\" column shows if the passenger survived or not. ( 0: \" Not Survived \", 1: \" Survived \" )"
   ]
  },
  {
   "cell_type": "code",
   "execution_count": 3,
   "metadata": {},
   "outputs": [
    {
     "data": {
      "text/html": [
       "<div>\n",
       "<style scoped>\n",
       "    .dataframe tbody tr th:only-of-type {\n",
       "        vertical-align: middle;\n",
       "    }\n",
       "\n",
       "    .dataframe tbody tr th {\n",
       "        vertical-align: top;\n",
       "    }\n",
       "\n",
       "    .dataframe thead th {\n",
       "        text-align: right;\n",
       "    }\n",
       "</style>\n",
       "<table border=\"1\" class=\"dataframe\">\n",
       "  <thead>\n",
       "    <tr style=\"text-align: right;\">\n",
       "      <th></th>\n",
       "      <th>PassengerId</th>\n",
       "      <th>Survived</th>\n",
       "      <th>Pclass</th>\n",
       "      <th>Name</th>\n",
       "      <th>Sex</th>\n",
       "      <th>Age</th>\n",
       "      <th>SibSp</th>\n",
       "      <th>Parch</th>\n",
       "      <th>Ticket</th>\n",
       "      <th>Fare</th>\n",
       "      <th>Cabin</th>\n",
       "      <th>Embarked</th>\n",
       "    </tr>\n",
       "  </thead>\n",
       "  <tbody>\n",
       "    <tr>\n",
       "      <th>0</th>\n",
       "      <td>1</td>\n",
       "      <td>0</td>\n",
       "      <td>3</td>\n",
       "      <td>Braund, Mr. Owen Harris</td>\n",
       "      <td>male</td>\n",
       "      <td>22.0</td>\n",
       "      <td>1</td>\n",
       "      <td>0</td>\n",
       "      <td>A/5 21171</td>\n",
       "      <td>7.2500</td>\n",
       "      <td>NaN</td>\n",
       "      <td>S</td>\n",
       "    </tr>\n",
       "    <tr>\n",
       "      <th>1</th>\n",
       "      <td>2</td>\n",
       "      <td>1</td>\n",
       "      <td>1</td>\n",
       "      <td>Cumings, Mrs. John Bradley (Florence Briggs Th...</td>\n",
       "      <td>female</td>\n",
       "      <td>38.0</td>\n",
       "      <td>1</td>\n",
       "      <td>0</td>\n",
       "      <td>PC 17599</td>\n",
       "      <td>71.2833</td>\n",
       "      <td>C85</td>\n",
       "      <td>C</td>\n",
       "    </tr>\n",
       "    <tr>\n",
       "      <th>2</th>\n",
       "      <td>3</td>\n",
       "      <td>1</td>\n",
       "      <td>3</td>\n",
       "      <td>Heikkinen, Miss. Laina</td>\n",
       "      <td>female</td>\n",
       "      <td>26.0</td>\n",
       "      <td>0</td>\n",
       "      <td>0</td>\n",
       "      <td>STON/O2. 3101282</td>\n",
       "      <td>7.9250</td>\n",
       "      <td>NaN</td>\n",
       "      <td>S</td>\n",
       "    </tr>\n",
       "    <tr>\n",
       "      <th>3</th>\n",
       "      <td>4</td>\n",
       "      <td>1</td>\n",
       "      <td>1</td>\n",
       "      <td>Futrelle, Mrs. Jacques Heath (Lily May Peel)</td>\n",
       "      <td>female</td>\n",
       "      <td>35.0</td>\n",
       "      <td>1</td>\n",
       "      <td>0</td>\n",
       "      <td>113803</td>\n",
       "      <td>53.1000</td>\n",
       "      <td>C123</td>\n",
       "      <td>S</td>\n",
       "    </tr>\n",
       "    <tr>\n",
       "      <th>4</th>\n",
       "      <td>5</td>\n",
       "      <td>0</td>\n",
       "      <td>3</td>\n",
       "      <td>Allen, Mr. William Henry</td>\n",
       "      <td>male</td>\n",
       "      <td>35.0</td>\n",
       "      <td>0</td>\n",
       "      <td>0</td>\n",
       "      <td>373450</td>\n",
       "      <td>8.0500</td>\n",
       "      <td>NaN</td>\n",
       "      <td>S</td>\n",
       "    </tr>\n",
       "  </tbody>\n",
       "</table>\n",
       "</div>"
      ],
      "text/plain": [
       "   PassengerId  Survived  Pclass  \\\n",
       "0            1         0       3   \n",
       "1            2         1       1   \n",
       "2            3         1       3   \n",
       "3            4         1       1   \n",
       "4            5         0       3   \n",
       "\n",
       "                                                Name     Sex   Age  SibSp  \\\n",
       "0                            Braund, Mr. Owen Harris    male  22.0      1   \n",
       "1  Cumings, Mrs. John Bradley (Florence Briggs Th...  female  38.0      1   \n",
       "2                             Heikkinen, Miss. Laina  female  26.0      0   \n",
       "3       Futrelle, Mrs. Jacques Heath (Lily May Peel)  female  35.0      1   \n",
       "4                           Allen, Mr. William Henry    male  35.0      0   \n",
       "\n",
       "   Parch            Ticket     Fare Cabin Embarked  \n",
       "0      0         A/5 21171   7.2500   NaN        S  \n",
       "1      0          PC 17599  71.2833   C85        C  \n",
       "2      0  STON/O2. 3101282   7.9250   NaN        S  \n",
       "3      0            113803  53.1000  C123        S  \n",
       "4      0            373450   8.0500   NaN        S  "
      ]
     },
     "execution_count": 3,
     "metadata": {},
     "output_type": "execute_result"
    }
   ],
   "source": [
    "train.head()"
   ]
  },
  {
   "cell_type": "code",
   "execution_count": 4,
   "metadata": {},
   "outputs": [
    {
     "data": {
      "text/html": [
       "<div>\n",
       "<style scoped>\n",
       "    .dataframe tbody tr th:only-of-type {\n",
       "        vertical-align: middle;\n",
       "    }\n",
       "\n",
       "    .dataframe tbody tr th {\n",
       "        vertical-align: top;\n",
       "    }\n",
       "\n",
       "    .dataframe thead th {\n",
       "        text-align: right;\n",
       "    }\n",
       "</style>\n",
       "<table border=\"1\" class=\"dataframe\">\n",
       "  <thead>\n",
       "    <tr style=\"text-align: right;\">\n",
       "      <th></th>\n",
       "      <th>PassengerId</th>\n",
       "      <th>Pclass</th>\n",
       "      <th>Name</th>\n",
       "      <th>Sex</th>\n",
       "      <th>Age</th>\n",
       "      <th>SibSp</th>\n",
       "      <th>Parch</th>\n",
       "      <th>Ticket</th>\n",
       "      <th>Fare</th>\n",
       "      <th>Cabin</th>\n",
       "      <th>Embarked</th>\n",
       "    </tr>\n",
       "  </thead>\n",
       "  <tbody>\n",
       "    <tr>\n",
       "      <th>0</th>\n",
       "      <td>892</td>\n",
       "      <td>3</td>\n",
       "      <td>Kelly, Mr. James</td>\n",
       "      <td>male</td>\n",
       "      <td>34.5</td>\n",
       "      <td>0</td>\n",
       "      <td>0</td>\n",
       "      <td>330911</td>\n",
       "      <td>7.8292</td>\n",
       "      <td>NaN</td>\n",
       "      <td>Q</td>\n",
       "    </tr>\n",
       "    <tr>\n",
       "      <th>1</th>\n",
       "      <td>893</td>\n",
       "      <td>3</td>\n",
       "      <td>Wilkes, Mrs. James (Ellen Needs)</td>\n",
       "      <td>female</td>\n",
       "      <td>47.0</td>\n",
       "      <td>1</td>\n",
       "      <td>0</td>\n",
       "      <td>363272</td>\n",
       "      <td>7.0000</td>\n",
       "      <td>NaN</td>\n",
       "      <td>S</td>\n",
       "    </tr>\n",
       "    <tr>\n",
       "      <th>2</th>\n",
       "      <td>894</td>\n",
       "      <td>2</td>\n",
       "      <td>Myles, Mr. Thomas Francis</td>\n",
       "      <td>male</td>\n",
       "      <td>62.0</td>\n",
       "      <td>0</td>\n",
       "      <td>0</td>\n",
       "      <td>240276</td>\n",
       "      <td>9.6875</td>\n",
       "      <td>NaN</td>\n",
       "      <td>Q</td>\n",
       "    </tr>\n",
       "    <tr>\n",
       "      <th>3</th>\n",
       "      <td>895</td>\n",
       "      <td>3</td>\n",
       "      <td>Wirz, Mr. Albert</td>\n",
       "      <td>male</td>\n",
       "      <td>27.0</td>\n",
       "      <td>0</td>\n",
       "      <td>0</td>\n",
       "      <td>315154</td>\n",
       "      <td>8.6625</td>\n",
       "      <td>NaN</td>\n",
       "      <td>S</td>\n",
       "    </tr>\n",
       "    <tr>\n",
       "      <th>4</th>\n",
       "      <td>896</td>\n",
       "      <td>3</td>\n",
       "      <td>Hirvonen, Mrs. Alexander (Helga E Lindqvist)</td>\n",
       "      <td>female</td>\n",
       "      <td>22.0</td>\n",
       "      <td>1</td>\n",
       "      <td>1</td>\n",
       "      <td>3101298</td>\n",
       "      <td>12.2875</td>\n",
       "      <td>NaN</td>\n",
       "      <td>S</td>\n",
       "    </tr>\n",
       "  </tbody>\n",
       "</table>\n",
       "</div>"
      ],
      "text/plain": [
       "   PassengerId  Pclass                                          Name     Sex  \\\n",
       "0          892       3                              Kelly, Mr. James    male   \n",
       "1          893       3              Wilkes, Mrs. James (Ellen Needs)  female   \n",
       "2          894       2                     Myles, Mr. Thomas Francis    male   \n",
       "3          895       3                              Wirz, Mr. Albert    male   \n",
       "4          896       3  Hirvonen, Mrs. Alexander (Helga E Lindqvist)  female   \n",
       "\n",
       "    Age  SibSp  Parch   Ticket     Fare Cabin Embarked  \n",
       "0  34.5      0      0   330911   7.8292   NaN        Q  \n",
       "1  47.0      1      0   363272   7.0000   NaN        S  \n",
       "2  62.0      0      0   240276   9.6875   NaN        Q  \n",
       "3  27.0      0      0   315154   8.6625   NaN        S  \n",
       "4  22.0      1      1  3101298  12.2875   NaN        S  "
      ]
     },
     "execution_count": 4,
     "metadata": {},
     "output_type": "execute_result"
    }
   ],
   "source": [
    "holdout.head()"
   ]
  },
  {
   "cell_type": "code",
   "execution_count": 5,
   "metadata": {},
   "outputs": [
    {
     "name": "stdout",
     "output_type": "stream",
     "text": [
      "<class 'pandas.core.frame.DataFrame'>\n",
      "RangeIndex: 891 entries, 0 to 890\n",
      "Data columns (total 12 columns):\n",
      " #   Column       Non-Null Count  Dtype  \n",
      "---  ------       --------------  -----  \n",
      " 0   PassengerId  891 non-null    int64  \n",
      " 1   Survived     891 non-null    int64  \n",
      " 2   Pclass       891 non-null    int64  \n",
      " 3   Name         891 non-null    object \n",
      " 4   Sex          891 non-null    object \n",
      " 5   Age          714 non-null    float64\n",
      " 6   SibSp        891 non-null    int64  \n",
      " 7   Parch        891 non-null    int64  \n",
      " 8   Ticket       891 non-null    object \n",
      " 9   Fare         891 non-null    float64\n",
      " 10  Cabin        204 non-null    object \n",
      " 11  Embarked     889 non-null    object \n",
      "dtypes: float64(2), int64(5), object(5)\n",
      "memory usage: 83.7+ KB\n"
     ]
    }
   ],
   "source": [
    "train.info()"
   ]
  },
  {
   "cell_type": "code",
   "execution_count": 6,
   "metadata": {},
   "outputs": [
    {
     "name": "stdout",
     "output_type": "stream",
     "text": [
      "<class 'pandas.core.frame.DataFrame'>\n",
      "RangeIndex: 418 entries, 0 to 417\n",
      "Data columns (total 11 columns):\n",
      " #   Column       Non-Null Count  Dtype  \n",
      "---  ------       --------------  -----  \n",
      " 0   PassengerId  418 non-null    int64  \n",
      " 1   Pclass       418 non-null    int64  \n",
      " 2   Name         418 non-null    object \n",
      " 3   Sex          418 non-null    object \n",
      " 4   Age          332 non-null    float64\n",
      " 5   SibSp        418 non-null    int64  \n",
      " 6   Parch        418 non-null    int64  \n",
      " 7   Ticket       418 non-null    object \n",
      " 8   Fare         417 non-null    float64\n",
      " 9   Cabin        91 non-null     object \n",
      " 10  Embarked     418 non-null    object \n",
      "dtypes: float64(2), int64(4), object(5)\n",
      "memory usage: 36.0+ KB\n"
     ]
    }
   ],
   "source": [
    "holdout.info()"
   ]
  },
  {
   "cell_type": "markdown",
   "metadata": {},
   "source": [
    "I will check the status of survival against a passenger's gender and class. I will visualize it with Matplotlib library."
   ]
  },
  {
   "cell_type": "code",
   "execution_count": 7,
   "metadata": {},
   "outputs": [
    {
     "data": {
      "image/png": "[encoded data removed]",
      "text/plain": [
       "<Figure size 432x288 with 1 Axes>"
      ]
     },
     "metadata": {
      "needs_background": "light"
     },
     "output_type": "display_data"
    }
   ],
   "source": [
    "import matplotlib.pyplot as plt\n",
    "\n",
    "sex_pivot = train.pivot_table(index=\"Sex\",values=\"Survived\")\n",
    "sex_pivot.plot.bar()\n",
    "plt.show()\n"
   ]
  },
  {
   "cell_type": "code",
   "execution_count": 8,
   "metadata": {},
   "outputs": [
    {
     "data": {
      "image/png": "[encoded data removed]",
      "text/plain": [
       "<Figure size 432x288 with 1 Axes>"
      ]
     },
     "metadata": {
      "needs_background": "light"
     },
     "output_type": "display_data"
    }
   ],
   "source": [
    "class_pivot= train. pivot_table(index= \"Pclass\", values= \"Survived\")\n",
    "class_pivot.plot.bar()\n",
    "plt.show()"
   ]
  },
  {
   "cell_type": "markdown",
   "metadata": {},
   "source": [
    "I saw the status of survival according to gender and class factors. These two factors are categorical. I will also check the situation according to age factors. "
   ]
  },
  {
   "cell_type": "code",
   "execution_count": 9,
   "metadata": {},
   "outputs": [
    {
     "data": {
      "image/png": "[encoded data removed]",
      "text/plain": [
       "<Figure size 432x288 with 1 Axes>"
      ]
     },
     "metadata": {
      "needs_background": "light"
     },
     "output_type": "display_data"
    }
   ],
   "source": [
    "survived = train[train[\"Survived\"] == 1]\n",
    "died = train[train[\"Survived\"] == 0]\n",
    "survived[\"Age\"].plot.hist(alpha=0.5,color='red',bins=50)\n",
    "died[\"Age\"].plot.hist(alpha=0.5,color='blue',bins=50)\n",
    "plt.legend(['Survived','Died'])\n",
    "plt.show()"
   ]
  },
  {
   "cell_type": "markdown",
   "metadata": {},
   "source": [
    "I need to categorize the age factor, because it is difficult to use this information in my next prediction model. I will create a function to categorize the age factor."
   ]
  },
  {
   "cell_type": "code",
   "execution_count": 10,
   "metadata": {},
   "outputs": [],
   "source": [
    "def process_age(df):\n",
    "    '''\n",
    "    Process the Age column into pre-defined 'bins'\n",
    "    \n",
    "    Usage\n",
    "    ------\n",
    "    \n",
    "    train= process_age(train)\n",
    "    '''\n",
    "    \n",
    "    df[\"Age\"]= df[\"Age\"].fillna(-0.5)\n",
    "    cut_points= [-1,0,5,12,18,35,60,100]\n",
    "    label_names= [\"Missing\", \"Infant\", \"Child\", \"Teenager\", \"Young Adult\", \"Adult\", \"Senior\"]\n",
    "    df[\"Age_categories\"]= pd.cut(df[\"Age\"], cut_points, labels=label_names)\n",
    "    return df"
   ]
  },
  {
   "cell_type": "code",
   "execution_count": 11,
   "metadata": {},
   "outputs": [
    {
     "data": {
      "image/png": "[encoded data removed]",
      "text/plain": [
       "<Figure size 432x288 with 1 Axes>"
      ]
     },
     "metadata": {
      "needs_background": "light"
     },
     "output_type": "display_data"
    }
   ],
   "source": [
    "# I will check the status of survival according to age factor.\n",
    "train= process_age(train)\n",
    "pivot= train. pivot_table( index= \"Age_categories\", values= \"Survived\")\n",
    "pivot.plot.bar( color= \"Green\")\n",
    "plt.show()"
   ]
  },
  {
   "cell_type": "code",
   "execution_count": 12,
   "metadata": {},
   "outputs": [],
   "source": [
    "# I will use the same function for the test data file\n",
    "\n",
    "holdout= process_age(holdout)"
   ]
  },
  {
   "cell_type": "markdown",
   "metadata": {},
   "source": [
    "Machine learning algorithms can not understand text, so I need numbers to use on my prediction models. I will create a function to convert the \"Age\", \"Class\" and \"Gender\" factors to numeric values."
   ]
  },
  {
   "cell_type": "code",
   "execution_count": 13,
   "metadata": {},
   "outputs": [],
   "source": [
    "def create_dummies(df, column_name):\n",
    "    '''\n",
    "    Create Dummy Columns (One Hot Encoding) from a single Column\n",
    "    \n",
    "    Usage\n",
    "    ------\n",
    "    \n",
    "    train= create_dummies(train, \"Age\")\n",
    "    '''\n",
    "    dummies= pd.get_dummies(df[column_name], prefix= column_name)\n",
    "    df= pd.concat([df, dummies], axis=1)\n",
    "    return df"
   ]
  },
  {
   "cell_type": "code",
   "execution_count": 14,
   "metadata": {},
   "outputs": [],
   "source": [
    "# I will use my function on these columns.\n",
    "\n",
    "train = create_dummies(train,\"Pclass\")\n",
    "holdout = create_dummies(holdout,\"Pclass\")\n",
    "train= create_dummies(train, \"Sex\")\n",
    "holdout= create_dummies(holdout, \"Sex\")\n",
    "train= create_dummies(train, \"Age_categories\")\n",
    "holdout= create_dummies(holdout, \"Age_categories\")"
   ]
  },
  {
   "cell_type": "code",
   "execution_count": 15,
   "metadata": {},
   "outputs": [
    {
     "data": {
      "text/html": [
       "<div>\n",
       "<style scoped>\n",
       "    .dataframe tbody tr th:only-of-type {\n",
       "        vertical-align: middle;\n",
       "    }\n",
       "\n",
       "    .dataframe tbody tr th {\n",
       "        vertical-align: top;\n",
       "    }\n",
       "\n",
       "    .dataframe thead th {\n",
       "        text-align: right;\n",
       "    }\n",
       "</style>\n",
       "<table border=\"1\" class=\"dataframe\">\n",
       "  <thead>\n",
       "    <tr style=\"text-align: right;\">\n",
       "      <th></th>\n",
       "      <th>PassengerId</th>\n",
       "      <th>Survived</th>\n",
       "      <th>Pclass</th>\n",
       "      <th>Name</th>\n",
       "      <th>Sex</th>\n",
       "      <th>Age</th>\n",
       "      <th>SibSp</th>\n",
       "      <th>Parch</th>\n",
       "      <th>Ticket</th>\n",
       "      <th>Fare</th>\n",
       "      <th>...</th>\n",
       "      <th>Pclass_3</th>\n",
       "      <th>Sex_female</th>\n",
       "      <th>Sex_male</th>\n",
       "      <th>Age_categories_Missing</th>\n",
       "      <th>Age_categories_Infant</th>\n",
       "      <th>Age_categories_Child</th>\n",
       "      <th>Age_categories_Teenager</th>\n",
       "      <th>Age_categories_Young Adult</th>\n",
       "      <th>Age_categories_Adult</th>\n",
       "      <th>Age_categories_Senior</th>\n",
       "    </tr>\n",
       "  </thead>\n",
       "  <tbody>\n",
       "    <tr>\n",
       "      <th>0</th>\n",
       "      <td>1</td>\n",
       "      <td>0</td>\n",
       "      <td>3</td>\n",
       "      <td>Braund, Mr. Owen Harris</td>\n",
       "      <td>male</td>\n",
       "      <td>22.0</td>\n",
       "      <td>1</td>\n",
       "      <td>0</td>\n",
       "      <td>A/5 21171</td>\n",
       "      <td>7.2500</td>\n",
       "      <td>...</td>\n",
       "      <td>1</td>\n",
       "      <td>0</td>\n",
       "      <td>1</td>\n",
       "      <td>0</td>\n",
       "      <td>0</td>\n",
       "      <td>0</td>\n",
       "      <td>0</td>\n",
       "      <td>1</td>\n",
       "      <td>0</td>\n",
       "      <td>0</td>\n",
       "    </tr>\n",
       "    <tr>\n",
       "      <th>1</th>\n",
       "      <td>2</td>\n",
       "      <td>1</td>\n",
       "      <td>1</td>\n",
       "      <td>Cumings, Mrs. John Bradley (Florence Briggs Th...</td>\n",
       "      <td>female</td>\n",
       "      <td>38.0</td>\n",
       "      <td>1</td>\n",
       "      <td>0</td>\n",
       "      <td>PC 17599</td>\n",
       "      <td>71.2833</td>\n",
       "      <td>...</td>\n",
       "      <td>0</td>\n",
       "      <td>1</td>\n",
       "      <td>0</td>\n",
       "      <td>0</td>\n",
       "      <td>0</td>\n",
       "      <td>0</td>\n",
       "      <td>0</td>\n",
       "      <td>0</td>\n",
       "      <td>1</td>\n",
       "      <td>0</td>\n",
       "    </tr>\n",
       "    <tr>\n",
       "      <th>2</th>\n",
       "      <td>3</td>\n",
       "      <td>1</td>\n",
       "      <td>3</td>\n",
       "      <td>Heikkinen, Miss. Laina</td>\n",
       "      <td>female</td>\n",
       "      <td>26.0</td>\n",
       "      <td>0</td>\n",
       "      <td>0</td>\n",
       "      <td>STON/O2. 3101282</td>\n",
       "      <td>7.9250</td>\n",
       "      <td>...</td>\n",
       "      <td>1</td>\n",
       "      <td>1</td>\n",
       "      <td>0</td>\n",
       "      <td>0</td>\n",
       "      <td>0</td>\n",
       "      <td>0</td>\n",
       "      <td>0</td>\n",
       "      <td>1</td>\n",
       "      <td>0</td>\n",
       "      <td>0</td>\n",
       "    </tr>\n",
       "    <tr>\n",
       "      <th>3</th>\n",
       "      <td>4</td>\n",
       "      <td>1</td>\n",
       "      <td>1</td>\n",
       "      <td>Futrelle, Mrs. Jacques Heath (Lily May Peel)</td>\n",
       "      <td>female</td>\n",
       "      <td>35.0</td>\n",
       "      <td>1</td>\n",
       "      <td>0</td>\n",
       "      <td>113803</td>\n",
       "      <td>53.1000</td>\n",
       "      <td>...</td>\n",
       "      <td>0</td>\n",
       "      <td>1</td>\n",
       "      <td>0</td>\n",
       "      <td>0</td>\n",
       "      <td>0</td>\n",
       "      <td>0</td>\n",
       "      <td>0</td>\n",
       "      <td>1</td>\n",
       "      <td>0</td>\n",
       "      <td>0</td>\n",
       "    </tr>\n",
       "    <tr>\n",
       "      <th>4</th>\n",
       "      <td>5</td>\n",
       "      <td>0</td>\n",
       "      <td>3</td>\n",
       "      <td>Allen, Mr. William Henry</td>\n",
       "      <td>male</td>\n",
       "      <td>35.0</td>\n",
       "      <td>0</td>\n",
       "      <td>0</td>\n",
       "      <td>373450</td>\n",
       "      <td>8.0500</td>\n",
       "      <td>...</td>\n",
       "      <td>1</td>\n",
       "      <td>0</td>\n",
       "      <td>1</td>\n",
       "      <td>0</td>\n",
       "      <td>0</td>\n",
       "      <td>0</td>\n",
       "      <td>0</td>\n",
       "      <td>1</td>\n",
       "      <td>0</td>\n",
       "      <td>0</td>\n",
       "    </tr>\n",
       "  </tbody>\n",
       "</table>\n",
       "<p>5 rows × 25 columns</p>\n",
       "</div>"
      ],
      "text/plain": [
       "   PassengerId  Survived  Pclass  \\\n",
       "0            1         0       3   \n",
       "1            2         1       1   \n",
       "2            3         1       3   \n",
       "3            4         1       1   \n",
       "4            5         0       3   \n",
       "\n",
       "                                                Name     Sex   Age  SibSp  \\\n",
       "0                            Braund, Mr. Owen Harris    male  22.0      1   \n",
       "1  Cumings, Mrs. John Bradley (Florence Briggs Th...  female  38.0      1   \n",
       "2                             Heikkinen, Miss. Laina  female  26.0      0   \n",
       "3       Futrelle, Mrs. Jacques Heath (Lily May Peel)  female  35.0      1   \n",
       "4                           Allen, Mr. William Henry    male  35.0      0   \n",
       "\n",
       "   Parch            Ticket     Fare  ... Pclass_3 Sex_female Sex_male  \\\n",
       "0      0         A/5 21171   7.2500  ...        1          0        1   \n",
       "1      0          PC 17599  71.2833  ...        0          1        0   \n",
       "2      0  STON/O2. 3101282   7.9250  ...        1          1        0   \n",
       "3      0            113803  53.1000  ...        0          1        0   \n",
       "4      0            373450   8.0500  ...        1          0        1   \n",
       "\n",
       "   Age_categories_Missing  Age_categories_Infant  Age_categories_Child  \\\n",
       "0                       0                      0                     0   \n",
       "1                       0                      0                     0   \n",
       "2                       0                      0                     0   \n",
       "3                       0                      0                     0   \n",
       "4                       0                      0                     0   \n",
       "\n",
       "   Age_categories_Teenager  Age_categories_Young Adult  Age_categories_Adult  \\\n",
       "0                        0                           1                     0   \n",
       "1                        0                           0                     1   \n",
       "2                        0                           1                     0   \n",
       "3                        0                           1                     0   \n",
       "4                        0                           1                     0   \n",
       "\n",
       "   Age_categories_Senior  \n",
       "0                      0  \n",
       "1                      0  \n",
       "2                      0  \n",
       "3                      0  \n",
       "4                      0  \n",
       "\n",
       "[5 rows x 25 columns]"
      ]
     },
     "execution_count": 15,
     "metadata": {},
     "output_type": "execute_result"
    }
   ],
   "source": [
    "train.head()"
   ]
  },
  {
   "cell_type": "code",
   "execution_count": 16,
   "metadata": {},
   "outputs": [
    {
     "name": "stdout",
     "output_type": "stream",
     "text": [
      "<class 'pandas.core.frame.DataFrame'>\n",
      "RangeIndex: 891 entries, 0 to 890\n",
      "Data columns (total 25 columns):\n",
      " #   Column                      Non-Null Count  Dtype   \n",
      "---  ------                      --------------  -----   \n",
      " 0   PassengerId                 891 non-null    int64   \n",
      " 1   Survived                    891 non-null    int64   \n",
      " 2   Pclass                      891 non-null    int64   \n",
      " 3   Name                        891 non-null    object  \n",
      " 4   Sex                         891 non-null    object  \n",
      " 5   Age                         891 non-null    float64 \n",
      " 6   SibSp                       891 non-null    int64   \n",
      " 7   Parch                       891 non-null    int64   \n",
      " 8   Ticket                      891 non-null    object  \n",
      " 9   Fare                        891 non-null    float64 \n",
      " 10  Cabin                       204 non-null    object  \n",
      " 11  Embarked                    889 non-null    object  \n",
      " 12  Age_categories              891 non-null    category\n",
      " 13  Pclass_1                    891 non-null    uint8   \n",
      " 14  Pclass_2                    891 non-null    uint8   \n",
      " 15  Pclass_3                    891 non-null    uint8   \n",
      " 16  Sex_female                  891 non-null    uint8   \n",
      " 17  Sex_male                    891 non-null    uint8   \n",
      " 18  Age_categories_Missing      891 non-null    uint8   \n",
      " 19  Age_categories_Infant       891 non-null    uint8   \n",
      " 20  Age_categories_Child        891 non-null    uint8   \n",
      " 21  Age_categories_Teenager     891 non-null    uint8   \n",
      " 22  Age_categories_Young Adult  891 non-null    uint8   \n",
      " 23  Age_categories_Adult        891 non-null    uint8   \n",
      " 24  Age_categories_Senior       891 non-null    uint8   \n",
      "dtypes: category(1), float64(2), int64(5), object(5), uint8(12)\n",
      "memory usage: 95.3+ KB\n"
     ]
    }
   ],
   "source": [
    "train.info()"
   ]
  },
  {
   "cell_type": "code",
   "execution_count": 17,
   "metadata": {},
   "outputs": [
    {
     "name": "stdout",
     "output_type": "stream",
     "text": [
      "<class 'pandas.core.frame.DataFrame'>\n",
      "RangeIndex: 418 entries, 0 to 417\n",
      "Data columns (total 24 columns):\n",
      " #   Column                      Non-Null Count  Dtype   \n",
      "---  ------                      --------------  -----   \n",
      " 0   PassengerId                 418 non-null    int64   \n",
      " 1   Pclass                      418 non-null    int64   \n",
      " 2   Name                        418 non-null    object  \n",
      " 3   Sex                         418 non-null    object  \n",
      " 4   Age                         418 non-null    float64 \n",
      " 5   SibSp                       418 non-null    int64   \n",
      " 6   Parch                       418 non-null    int64   \n",
      " 7   Ticket                      418 non-null    object  \n",
      " 8   Fare                        417 non-null    float64 \n",
      " 9   Cabin                       91 non-null     object  \n",
      " 10  Embarked                    418 non-null    object  \n",
      " 11  Age_categories              418 non-null    category\n",
      " 12  Pclass_1                    418 non-null    uint8   \n",
      " 13  Pclass_2                    418 non-null    uint8   \n",
      " 14  Pclass_3                    418 non-null    uint8   \n",
      " 15  Sex_female                  418 non-null    uint8   \n",
      " 16  Sex_male                    418 non-null    uint8   \n",
      " 17  Age_categories_Missing      418 non-null    uint8   \n",
      " 18  Age_categories_Infant       418 non-null    uint8   \n",
      " 19  Age_categories_Child        418 non-null    uint8   \n",
      " 20  Age_categories_Teenager     418 non-null    uint8   \n",
      " 21  Age_categories_Young Adult  418 non-null    uint8   \n",
      " 22  Age_categories_Adult        418 non-null    uint8   \n",
      " 23  Age_categories_Senior       418 non-null    uint8   \n",
      "dtypes: category(1), float64(2), int64(4), object(5), uint8(12)\n",
      "memory usage: 41.7+ KB\n"
     ]
    }
   ],
   "source": [
    "holdout.info()"
   ]
  },
  {
   "cell_type": "markdown",
   "metadata": {},
   "source": [
    "## First Prediction and Submission"
   ]
  },
  {
   "cell_type": "markdown",
   "metadata": {},
   "source": [
    "Until now, I have explored my data and made some changes. I want to make a prediction on the prepared data and see the performance. According to the success, I will maintain my implementation. I will use Logistic Regression method to make my first prediction. After that, I have to calculate the accuracy to be sure of my prediction's performance before the submission to the Kaggle. I have the \"holdout\" data set, but this data set does not have survival information. I will create new test data by splitting the train data.   "
   ]
  },
  {
   "cell_type": "code",
   "execution_count": 18,
   "metadata": {},
   "outputs": [],
   "source": [
    "from sklearn.linear_model import LogisticRegression\n"
   ]
  },
  {
   "cell_type": "code",
   "execution_count": 19,
   "metadata": {},
   "outputs": [],
   "source": [
    "from sklearn.model_selection import train_test_split\n",
    "\n",
    "columns = ['Pclass_1', 'Pclass_2', 'Pclass_3', 'Sex_female', 'Sex_male',\n",
    "       'Age_categories_Missing','Age_categories_Infant',\n",
    "       'Age_categories_Child', 'Age_categories_Teenager',\n",
    "       'Age_categories_Young Adult', 'Age_categories_Adult',\n",
    "       'Age_categories_Senior']\n",
    "\n",
    "all_X= train[columns]\n",
    "all_y= train[\"Survived\"]\n",
    "\n",
    "train_X, test_X, train_y, test_y= train_test_split(all_X, all_y, test_size= 0.20, random_state=0)\n"
   ]
  },
  {
   "cell_type": "code",
   "execution_count": 20,
   "metadata": {},
   "outputs": [
    {
     "name": "stdout",
     "output_type": "stream",
     "text": [
      "0.8100558659217877\n"
     ]
    }
   ],
   "source": [
    "from sklearn.metrics import accuracy_score\n",
    "lr= LogisticRegression()\n",
    "lr.fit(train_X, train_y)\n",
    "predictions= lr.predict(test_X)\n",
    "accuracy= accuracy_score(test_y, predictions)\n",
    "print(accuracy)"
   ]
  },
  {
   "cell_type": "markdown",
   "metadata": {},
   "source": [
    "Now, my accuracy is 81%. I will use cross validation method to be sure of this prediction's performance."
   ]
  },
  {
   "cell_type": "code",
   "execution_count": 21,
   "metadata": {},
   "outputs": [
    {
     "name": "stdout",
     "output_type": "stream",
     "text": [
      "[0.8        0.82022472 0.76404494 0.87640449 0.80898876 0.78651685\n",
      " 0.76404494 0.76404494 0.83146067 0.80898876]\n",
      "0.8024719101123596\n"
     ]
    }
   ],
   "source": [
    "from sklearn.model_selection import cross_val_score\n",
    "import numpy as np\n",
    "scores= cross_val_score(lr, all_X, all_y, cv=10)\n",
    "accuracy= np.mean(scores)\n",
    "print(scores)\n",
    "print(accuracy)\n"
   ]
  },
  {
   "cell_type": "markdown",
   "metadata": {},
   "source": [
    "With the cross validation method, the accuracy ranges between 76% and 87%. I will make a prediction on the holdout data set, and I will make my first submission on the Kaggle."
   ]
  },
  {
   "cell_type": "code",
   "execution_count": 22,
   "metadata": {},
   "outputs": [],
   "source": [
    "lr= LogisticRegression()\n",
    "lr.fit(all_X, all_y)\n",
    "holdout_predictions= lr.predict(holdout[columns])"
   ]
  },
  {
   "cell_type": "markdown",
   "metadata": {},
   "source": [
    "To make a submission on the Kaggle, I need to create a csv file. I will save my prediction as a csv file."
   ]
  },
  {
   "cell_type": "code",
   "execution_count": 23,
   "metadata": {},
   "outputs": [],
   "source": [
    "predictions= holdout_predictions\n",
    "holdout_ids= holdout[\"PassengerId\"]\n",
    "submission_df= {\"PassengerId\": holdout_ids,\n",
    "                \"Survived\": predictions}\n",
    "submission= pd.DataFrame(submission_df)\n",
    "submission.to_csv(\"firstsubmission.csv\", index=False)"
   ]
  },
  {
   "cell_type": "markdown",
   "metadata": {},
   "source": [
    "![title](firstsubmission.png)"
   ]
  },
  {
   "cell_type": "markdown",
   "metadata": {},
   "source": [
    "I submitted my first prediction file on the Kaggle competition page. In this first submission, my accuracy is approximately 76%. It is a good start for the first trial without feature engineering, but it is not enough. I need to implement my features and prediction model."
   ]
  },
  {
   "cell_type": "markdown",
   "metadata": {},
   "source": [
    "## Feature Engineering to Improve Prediction"
   ]
  },
  {
   "cell_type": "markdown",
   "metadata": {},
   "source": [
    "I have two ways to boost my accurracy. One of them is improving the features. The other one is improving the prediction model. In this step, I will focus on features. I did not use some columns in my first prediction process. I want to start with these columns. I will ignore the \"PassengerId\" column. I will work on the \"SibSp\", \"Parch\", \"Ticket\", \"Fare\", \"Cabin\", \"Embarked\" columns.\n",
    "<br>\n",
    "The \"Name\" and \"Ticket\" columns have unique entries.\n",
    "<br>\n",
    "Let's take a look at the other columns."
   ]
  },
  {
   "cell_type": "code",
   "execution_count": 24,
   "metadata": {},
   "outputs": [
    {
     "name": "stdout",
     "output_type": "stream",
     "text": [
      "             SibSp       Parch        Fare        Cabin Embarked\n",
      "count   891.000000  891.000000  891.000000          204      889\n",
      "unique         NaN         NaN         NaN          147        3\n",
      "top            NaN         NaN         NaN  C23 C25 C27        S\n",
      "freq           NaN         NaN         NaN            4      644\n",
      "mean      0.523008    0.381594   32.204208          NaN      NaN\n",
      "std       1.102743    0.806057   49.693429          NaN      NaN\n",
      "min       0.000000    0.000000    0.000000          NaN      NaN\n",
      "50%       0.000000    0.000000   14.454200          NaN      NaN\n",
      "max       8.000000    6.000000  512.329200          NaN      NaN\n"
     ]
    }
   ],
   "source": [
    "columns = ['SibSp','Parch','Fare','Cabin','Embarked']\n",
    "print(train[columns].describe(include='all',percentiles=[]))"
   ]
  },
  {
   "cell_type": "markdown",
   "metadata": {},
   "source": [
    "The \"Cabin\" column has a lot of missing values, so I will not use this column. The \"Embarked\" column has just 3 missing entries, I will fill these missing entries with \"S\", because most of the entries are \"S\" for the \"Embarked\" column. After that, I will use \"get_dummies\" function to get dummies for the \"Embarked\" column. Also, there is a missing value in the \"Fare\" column, in the \"holdout\" data set. I will fill it with the mean of the \"Fare\" column."
   ]
  },
  {
   "cell_type": "code",
   "execution_count": 25,
   "metadata": {},
   "outputs": [],
   "source": [
    "train[\"Embarked\"]= train[\"Embarked\"].fillna(\"S\")\n",
    "holdout[\"Embarked\"]= holdout[\"Embarked\"].fillna(\"S\")\n",
    "train= create_dummies(train, \"Embarked\")\n",
    "holdout= create_dummies(holdout, \"Embarked\")\n",
    "holdout[\"Fare\"]= holdout[\"Fare\"].fillna(train[\"Fare\"].mean())"
   ]
  },
  {
   "cell_type": "markdown",
   "metadata": {},
   "source": [
    "I will rescale the \"SibSp\", \"Parch\" and \"Fare\" columns to use them in my prediction model easily."
   ]
  },
  {
   "cell_type": "code",
   "execution_count": 26,
   "metadata": {},
   "outputs": [],
   "source": [
    "from sklearn.preprocessing import minmax_scale\n",
    "columns= [\"SibSp\", \"Parch\", \"Fare\"]\n",
    "for col in columns:\n",
    "    train[col+ \"_scaled\"]= minmax_scale(train[col])\n",
    "    holdout[col+ \"_scaled\"]= minmax_scale(holdout[col])"
   ]
  },
  {
   "cell_type": "markdown",
   "metadata": {},
   "source": [
    "I will detect the importance of the columns on my prediction while calculating the coefficients."
   ]
  },
  {
   "cell_type": "code",
   "execution_count": 27,
   "metadata": {},
   "outputs": [
    {
     "data": {
      "image/png": "[encoded data removed]",
      "text/plain": [
       "<Figure size 432x288 with 1 Axes>"
      ]
     },
     "metadata": {
      "needs_background": "light"
     },
     "output_type": "display_data"
    }
   ],
   "source": [
    "columns = ['Age_categories_Missing', 'Age_categories_Infant',\n",
    "       'Age_categories_Child', 'Age_categories_Teenager',\n",
    "       'Age_categories_Young Adult', 'Age_categories_Adult',\n",
    "       'Age_categories_Senior', 'Pclass_1', 'Pclass_2', 'Pclass_3',\n",
    "       'Sex_female', 'Sex_male', 'Embarked_C', 'Embarked_Q', 'Embarked_S',\n",
    "       'SibSp_scaled', 'Parch_scaled', 'Fare_scaled']\n",
    "lr= LogisticRegression()\n",
    "lr.fit(train[columns], train[\"Survived\"])\n",
    "coefficients= lr.coef_\n",
    "feature_importance= pd.Series(coefficients[0], index= train[columns].columns)\n",
    "feature_importance.plot.barh()\n",
    "plt.show()"
   ]
  },
  {
   "cell_type": "code",
   "execution_count": 28,
   "metadata": {},
   "outputs": [
    {
     "data": {
      "image/png": "[encoded data removed]",
      "text/plain": [
       "<Figure size 432x288 with 1 Axes>"
      ]
     },
     "metadata": {
      "needs_background": "light"
     },
     "output_type": "display_data"
    }
   ],
   "source": [
    "# I do not need to columns which have negative coefficients. \n",
    "ordered_feature_importance = feature_importance.abs().sort_values()\n",
    "ordered_feature_importance.plot.barh()\n",
    "plt.show()"
   ]
  },
  {
   "cell_type": "code",
   "execution_count": 29,
   "metadata": {},
   "outputs": [
    {
     "name": "stdout",
     "output_type": "stream",
     "text": [
      "0.8148064918851435\n"
     ]
    }
   ],
   "source": [
    "# I will use top 8 columns to train my model\n",
    "\n",
    "columns = ['Age_categories_Infant', 'SibSp_scaled', 'Sex_female', 'Sex_male',\n",
    "       'Pclass_1', 'Pclass_3', 'Age_categories_Senior', 'Parch_scaled']\n",
    "\n",
    "all_X= train[columns]\n",
    "all_Y= train[\"Survived\"]\n",
    "\n",
    "lr= LogisticRegression()\n",
    "scores= cross_val_score(lr, all_X, all_Y, cv=10)\n",
    "accuracy= scores.mean()\n",
    "print(accuracy)\n"
   ]
  },
  {
   "cell_type": "markdown",
   "metadata": {},
   "source": [
    "My accuracy looks better than the other accuracy. I will make a prediction on the \"holdout\" data and make a submission on the Kaggle. Let's check my score again. "
   ]
  },
  {
   "cell_type": "code",
   "execution_count": 30,
   "metadata": {},
   "outputs": [],
   "source": [
    "columns = ['Age_categories_Infant', 'SibSp_scaled', 'Sex_female', 'Sex_male',\n",
    "       'Pclass_1', 'Pclass_3', 'Age_categories_Senior', 'Parch_scaled']\n",
    "\n",
    "all_X = train[columns]\n",
    "\n",
    "all_y = train['Survived']\n",
    "lr.fit(all_X, all_y)\n",
    "holdout_predictions= lr.predict(holdout[columns])\n",
    "holdout_ids= holdout[\"PassengerId\"]\n",
    "submission_df= {\"PassengerId\":holdout_ids,\n",
    "                \"Survived\": holdout_predictions}\n",
    "submission= pd.DataFrame(submission_df)\n",
    "submission.to_csv(\"secondsubmission.csv\", index=False)"
   ]
  },
  {
   "cell_type": "markdown",
   "metadata": {},
   "source": [
    "![title](secondsubmission.png)"
   ]
  },
  {
   "cell_type": "markdown",
   "metadata": {},
   "source": [
    "I submitted my second prediction on Kaggle page. With the last features, I succeeded in boosting the accuracy from 76% to 77%. I need to make more implementations."
   ]
  },
  {
   "cell_type": "markdown",
   "metadata": {},
   "source": [
    "I will categorise the \"Fare\" column. I will create a function for it."
   ]
  },
  {
   "cell_type": "code",
   "execution_count": 31,
   "metadata": {},
   "outputs": [],
   "source": [
    "def process_fare(df):\n",
    "    '''\n",
    "    Process the Fare column into pre-defined 'bins'\n",
    "    \n",
    "    Usage\n",
    "    ------\n",
    "    \n",
    "    train=process_fare(train)\n",
    "    '''\n",
    "    cut_points= [-1,12,50,100,1000]\n",
    "    label_names= [\"0-12\", \"12-50\", \"50-100\", \"100+\"]\n",
    "    df[\"Fare_categories\"]= pd.cut(df[\"Fare\"], cut_points, labels=label_names)\n",
    "    return df"
   ]
  },
  {
   "cell_type": "code",
   "execution_count": 32,
   "metadata": {},
   "outputs": [],
   "source": [
    "train=process_fare(train)\n",
    "holdout = process_fare(holdout)"
   ]
  },
  {
   "cell_type": "code",
   "execution_count": 33,
   "metadata": {},
   "outputs": [],
   "source": [
    "train = create_dummies(train,\"Fare_categories\")\n",
    "holdout = create_dummies(holdout,\"Fare_categories\")"
   ]
  },
  {
   "cell_type": "markdown",
   "metadata": {},
   "source": [
    "I will create another function to create the \"Title\" column from the \"Name\" column to determine the titles."
   ]
  },
  {
   "cell_type": "code",
   "execution_count": 34,
   "metadata": {},
   "outputs": [],
   "source": [
    "def process_titles(df):\n",
    "    '''\n",
    "    Extract and categorize the title from the name column\n",
    "    \n",
    "    Usage\n",
    "    ------\n",
    "    \n",
    "    train= process_titles(train)\n",
    "    '''\n",
    "    titles={\n",
    "        \"Mr\": \"Mr\",\n",
    "        \"Mme\": \"Mrs\",\n",
    "        \"Ms\": \"Mrs\",\n",
    "        \"Mrs\": \"Mrs\",\n",
    "        \"Master\": \"Master\",\n",
    "        \"Mlle\": \"Miss\",\n",
    "        \"Miss\": \"Miss\",\n",
    "        \"Capt\": \"Officer\",\n",
    "        \"Col\": \"Officer\",\n",
    "        \"Major\": \"Officer\",\n",
    "        \"Dr\": \"Officer\",\n",
    "        \"Rev\": \"Officer\",\n",
    "        \"Jonkheer\": \"Royalty\",\n",
    "        \"Don\": \"Royalty\",\n",
    "        \"Sir\": \"Royalty\",\n",
    "        \"Countess\": \"Royalty\",\n",
    "        \"Dona\": \"Royalty\",\n",
    "        \"Lady\": \"Royalty\"\n",
    "    }\n",
    "    extracted_titles= df[\"Name\"].str.extract(\" ([A-Za-z]+)\\.\", expand=False)\n",
    "    df[\"Title\"]= extracted_titles.map(titles)\n",
    "    return df"
   ]
  },
  {
   "cell_type": "markdown",
   "metadata": {},
   "source": [
    "I will create another function to categorize cabin types."
   ]
  },
  {
   "cell_type": "code",
   "execution_count": 35,
   "metadata": {},
   "outputs": [],
   "source": [
    "def process_cabin(df):\n",
    "    '''\n",
    "    Process the Cabin column into pre-defined 'bins'\n",
    "    \n",
    "    Usage\n",
    "    ------\n",
    "    \n",
    "    train= process_cabin(train)\n",
    "    '''\n",
    "    \n",
    "    df[\"Cabin_type\"]= df[\"Cabin\"].str[0]\n",
    "    df[\"Cabin_type\"]= df[\"Cabin_type\"].fillna(\"Unknown\")\n",
    "    df= df.drop(\"Cabin\", axis=1)\n",
    "    return df"
   ]
  },
  {
   "cell_type": "markdown",
   "metadata": {},
   "source": [
    "I will create another function to use with the functions on the data sets which I created before."
   ]
  },
  {
   "cell_type": "code",
   "execution_count": 36,
   "metadata": {},
   "outputs": [],
   "source": [
    "def pre_process(df):\n",
    "    df= process_titles(df)\n",
    "    df= process_cabin(df)\n",
    "    \n",
    "    for col in [ \"Title\", \"Cabin_type\"]:\n",
    "        df= create_dummies(df,col)\n",
    "    return df\n",
    "\n",
    "train= pre_process(train)\n",
    "holdout= pre_process(holdout)"
   ]
  },
  {
   "cell_type": "markdown",
   "metadata": {},
   "source": [
    "I want to see the correlations of the columns."
   ]
  },
  {
   "cell_type": "code",
   "execution_count": 37,
   "metadata": {},
   "outputs": [
    {
     "data": {
      "image/png": "[encoded data removed]",
      "text/plain": [
       "<Figure size 792x648 with 2 Axes>"
      ]
     },
     "metadata": {},
     "output_type": "display_data"
    }
   ],
   "source": [
    "import seaborn as sns\n",
    "\n",
    "def plot_correlation_heatmap(df):\n",
    "    corr = df.corr()\n",
    "    \n",
    "    sns.set(style=\"white\")\n",
    "    mask = np.zeros_like(corr, dtype=np.bool)\n",
    "    mask[np.triu_indices_from(mask)] = True\n",
    "\n",
    "    f, ax = plt.subplots(figsize=(11, 9))\n",
    "    cmap = sns.diverging_palette(220, 10, as_cmap=True)\n",
    "\n",
    "\n",
    "    sns.heatmap(corr, mask=mask, cmap=cmap, vmax=.3, center=0,\n",
    "            square=True, linewidths=.5, cbar_kws={\"shrink\": .5})\n",
    "    plt.show()\n",
    "\n",
    "columns = ['Age_categories_Missing', 'Age_categories_Infant',\n",
    "       'Age_categories_Child', 'Age_categories_Teenager',\n",
    "       'Age_categories_Young Adult', 'Age_categories_Adult',\n",
    "       'Age_categories_Senior', 'Pclass_1', 'Pclass_2', 'Pclass_3',\n",
    "       'Sex_female', 'Sex_male', 'Embarked_C', 'Embarked_Q', 'Embarked_S',\n",
    "       'SibSp_scaled', 'Parch_scaled', 'Fare_categories_0-12',\n",
    "       'Fare_categories_12-50','Fare_categories_50-100', 'Fare_categories_100+',\n",
    "       'Title_Master', 'Title_Miss', 'Title_Mr','Title_Mrs', 'Title_Officer',\n",
    "       'Title_Royalty', 'Cabin_type_A','Cabin_type_B', 'Cabin_type_C', 'Cabin_type_D',\n",
    "       'Cabin_type_E','Cabin_type_F', 'Cabin_type_G', 'Cabin_type_T', 'Cabin_type_Unknown']\n",
    "plot_correlation_heatmap(train[columns])"
   ]
  },
  {
   "cell_type": "markdown",
   "metadata": {},
   "source": [
    "There is a high correlation between \"Sex_female\"/\"Sex_Male\" and \"Title_Mr\"/\"Title_Miss\"/\"Title_Mrs\". I will not use the \"Sex_female\" and \"Sex_male\" columns. Also, I will eliminate the \"Pclass_2\", \"Age_categories_Teenager\", \"Fare_categories_12-50\", \"Title_Master\", \"Cabin_type_A\" columns to reduce collinearity. I will perform recursive feature elimination with cross validation to select most relevant features. "
   ]
  },
  {
   "cell_type": "code",
   "execution_count": 38,
   "metadata": {},
   "outputs": [],
   "source": [
    "from sklearn.feature_selection import RFECV\n",
    "\n",
    "columns = ['Age_categories_Missing', 'Age_categories_Infant',\n",
    "       'Age_categories_Child', 'Age_categories_Young Adult',\n",
    "       'Age_categories_Adult', 'Age_categories_Senior', 'Pclass_1', 'Pclass_3',\n",
    "       'Embarked_C', 'Embarked_Q', 'Embarked_S', 'SibSp_scaled',\n",
    "       'Parch_scaled', 'Fare_categories_0-12', 'Fare_categories_50-100',\n",
    "       'Fare_categories_100+', 'Title_Miss', 'Title_Mr', 'Title_Mrs',\n",
    "       'Title_Officer', 'Title_Royalty', 'Cabin_type_B', 'Cabin_type_C',\n",
    "       'Cabin_type_D', 'Cabin_type_E', 'Cabin_type_F', 'Cabin_type_G',\n",
    "       'Cabin_type_T', 'Cabin_type_Unknown']\n",
    "\n",
    "all_X = train[columns]\n",
    "all_y = train[\"Survived\"]\n",
    "lr = LogisticRegression()\n",
    "selector = RFECV(lr,cv=10)\n",
    "selector.fit(all_X,all_y)\n",
    "\n",
    "optimized_columns = all_X.columns[selector.support_]"
   ]
  },
  {
   "cell_type": "code",
   "execution_count": 39,
   "metadata": {},
   "outputs": [
    {
     "data": {
      "text/plain": [
       "Index(['SibSp_scaled', 'Title_Mr', 'Title_Officer', 'Cabin_type_Unknown'], dtype='object')"
      ]
     },
     "execution_count": 39,
     "metadata": {},
     "output_type": "execute_result"
    }
   ],
   "source": [
    "optimized_columns"
   ]
  },
  {
   "cell_type": "markdown",
   "metadata": {},
   "source": [
    "The RFECV returned four columns. I will use these columns to train my model and I will make another submission on the Kaggle. After that, I will check my score again."
   ]
  },
  {
   "cell_type": "code",
   "execution_count": 40,
   "metadata": {},
   "outputs": [
    {
     "data": {
      "text/plain": [
       "0.8226591760299625"
      ]
     },
     "execution_count": 40,
     "metadata": {},
     "output_type": "execute_result"
    }
   ],
   "source": [
    "all_X = train[optimized_columns]\n",
    "all_y = train[\"Survived\"]\n",
    "lr=LogisticRegression()\n",
    "scores= cross_val_score(lr, all_X, all_y, cv=10)\n",
    "accuracy= scores.mean()\n",
    "accuracy"
   ]
  },
  {
   "cell_type": "code",
   "execution_count": 41,
   "metadata": {},
   "outputs": [],
   "source": [
    "lr.fit(all_X, all_y)\n",
    "holdout_predictions= lr.predict(holdout[optimized_columns])\n",
    "holdout_ids= holdout[\"PassengerId\"]\n",
    "submission_df= {\"PassengerId\": holdout_ids,\n",
    "                \"Survived\": holdout_predictions}\n",
    "submission= pd.DataFrame(submission_df)\n",
    "submission.to_csv(\"thirdsubmission.csv\", index=False)"
   ]
  },
  {
   "cell_type": "markdown",
   "metadata": {},
   "source": [
    "I got a better score on Kaggle, and this score moved me to the higher level.\n",
    "<br>\n",
    "![title](thirdsubmission.png)\n",
    "<br>\n",
    "![title](thirdscore.png)"
   ]
  },
  {
   "cell_type": "markdown",
   "metadata": {},
   "source": [
    "## More Feature Selection to Improve the Prediction"
   ]
  },
  {
   "cell_type": "markdown",
   "metadata": {},
   "source": [
    "I need more steps to improve my prediction. I will make more feature engineering and selection. I want to check the \"SibSp\" and \"Parch\" columns. The \"Parch\" column has information about parent- children relationships. The \"SibSp\" column has information about sibling relationships. I will create a graphic which shows the relationships between these columns and survivals."
   ]
  },
  {
   "cell_type": "code",
   "execution_count": 42,
   "metadata": {},
   "outputs": [
    {
     "name": "stdout",
     "output_type": "stream",
     "text": [
      "<class 'pandas.core.frame.DataFrame'>\n",
      "RangeIndex: 891 entries, 0 to 890\n",
      "Data columns (total 3 columns):\n",
      " #   Column    Non-Null Count  Dtype\n",
      "---  ------    --------------  -----\n",
      " 0   SibSp     891 non-null    int64\n",
      " 1   Parch     891 non-null    int64\n",
      " 2   Survived  891 non-null    int64\n",
      "dtypes: int64(3)\n",
      "memory usage: 21.0 KB\n"
     ]
    }
   ],
   "source": [
    "explore_cols= [\"SibSp\", \"Parch\", \"Survived\"]\n",
    "explore= train[explore_cols].copy()\n",
    "explore.info()"
   ]
  },
  {
   "cell_type": "code",
   "execution_count": 43,
   "metadata": {},
   "outputs": [
    {
     "data": {
      "image/png": "[encoded data removed]",
      "text/plain": [
       "<Figure size 432x288 with 1 Axes>"
      ]
     },
     "metadata": {
      "needs_background": "light"
     },
     "output_type": "display_data"
    }
   ],
   "source": [
    "import matplotlib.pyplot as plt\n",
    "%matplotlib inline\n",
    "explore.drop(\"Survived\", axis=1).plot.hist(alpha=0.5, bins=8)\n",
    "plt.show()"
   ]
  },
  {
   "cell_type": "code",
   "execution_count": 44,
   "metadata": {},
   "outputs": [
    {
     "data": {
      "image/png": "[encoded data removed]",
      "text/plain": [
       "<Figure size 432x288 with 1 Axes>"
      ]
     },
     "metadata": {
      "needs_background": "light"
     },
     "output_type": "display_data"
    }
   ],
   "source": [
    "explore[\"familysize\"]= explore[[\"SibSp\", \"Parch\"]].sum(axis=1)\n",
    "explore.drop(\"Survived\", axis=1).plot.hist(alpha=0.5, bins=10)\n",
    "plt.xticks(range(11))\n",
    "plt.show()"
   ]
  },
  {
   "cell_type": "code",
   "execution_count": 45,
   "metadata": {},
   "outputs": [
    {
     "data": {
      "image/png": "[encoded data removed]",
      "text/plain": [
       "<Figure size 432x288 with 1 Axes>"
      ]
     },
     "metadata": {
      "needs_background": "light"
     },
     "output_type": "display_data"
    },
    {
     "data": {
      "image/png": "[encoded data removed]",
      "text/plain": [
       "<Figure size 432x288 with 1 Axes>"
      ]
     },
     "metadata": {
      "needs_background": "light"
     },
     "output_type": "display_data"
    },
    {
     "data": {
      "image/png": "[encoded data removed]",
      "text/plain": [
       "<Figure size 432x288 with 1 Axes>"
      ]
     },
     "metadata": {
      "needs_background": "light"
     },
     "output_type": "display_data"
    }
   ],
   "source": [
    "import numpy as np\n",
    "\n",
    "for col in explore.columns.drop(\"Survived\"):\n",
    "    pivot= explore.pivot_table(index=col, values=\"Survived\")\n",
    "    pivot.plot.bar(ylim=(0,1), yticks=np.arange(0,1,.1))\n",
    "    plt.axhspan(.3, .6, alpha=0.2, color=\"red\")\n",
    "    plt.show()"
   ]
  },
  {
   "cell_type": "code",
   "execution_count": 46,
   "metadata": {},
   "outputs": [],
   "source": [
    "def process_isalone(df):\n",
    "    df[\"familysize\"]= df[[\"SibSp\",\"Parch\"]].sum(axis=1)\n",
    "    df[\"isalone\"]=0\n",
    "    df.loc[(df[\"familysize\"]==0), \"isalone\"]=1\n",
    "    df=df.drop(\"familysize\", axis=1)\n",
    "    return df\n",
    "\n",
    "train= process_isalone(train)\n",
    "holdout= process_isalone(holdout)"
   ]
  },
  {
   "cell_type": "markdown",
   "metadata": {},
   "source": [
    "I created a new function to add a new column to the data sets which shows family sizes."
   ]
  },
  {
   "cell_type": "code",
   "execution_count": null,
   "metadata": {},
   "outputs": [],
   "source": [
    "from sklearn.ensemble import RandomForestClassifier\n",
    "from sklearn.feature_selection import RFECV\n",
    "\n",
    "def select_features(df):\n",
    "    \n",
    "    df= df.select_dtypes([np.number]).dropna(axis=1)\n",
    "    all_X= df.drop([\"Survived\", \"PassengerId\"], axis=1)\n",
    "    all_y= df[\"Survived\"]\n",
    "    \n",
    "    clf= RandomForestClassifier(random_state=1)\n",
    "    selector= RFECV(clf, cv=20)\n",
    "    selector.fit(all_X, all_y)\n",
    "    \n",
    "    best_columns= list(all_X.columns[selector.support_])\n",
    "    print(\"Best Columns \\n\"+ \"_\"*12+ \"\\n{}\\n\".format(best_columns))\n",
    "    \n",
    "    return best_columns\n",
    "\n",
    "cols= select_features(train)"
   ]
  },
  {
   "cell_type": "code",
   "execution_count": null,
   "metadata": {},
   "outputs": [],
   "source": [
    "from sklearn.linear_model import LogisticRegression\n",
    "from sklearn.neighbors import KNeighborsClassifier\n",
    "from sklearn.model_selection import GridSearchCV\n",
    "from sklearn.linear_model import SGDClassifier\n",
    "\n",
    "def select_model(df, features):\n",
    "    all_X= df[features]\n",
    "    all_y= df[\"Survived\"]\n",
    "    \n",
    "    models= [{\n",
    "        \"name\": \"LogisticRegression\",\n",
    "        \"estimator\": LogisticRegression(),\n",
    "        \"hyperparameters\": { \"solver\": [\"newton-cg\", \"lbfgs\", \"liblinear\"]}\n",
    "        \n",
    "    },\n",
    "    {\n",
    "        \"name\": \"KNeighborsClassifier\",\n",
    "        \"estimator\": KNeighborsClassifier(),\n",
    "        \"hyperparameters\": { \"n_neighbors\": range(1,20,2), \"weights\":[\"distance\", \"uniform\"], \n",
    "                           \"algorithm\": [\"ball_tree\", \"kd_tree\", \"brute\"], \"p\": [1,2]}\n",
    "        \n",
    "    },\n",
    "    {\n",
    "        \"name\": \"RandomForestClassifier\",\n",
    "        \"estimator\": RandomForestClassifier(random_state=1),\n",
    "        \"hyperparameters\": { \"n_estimators\": [4,6,9],\n",
    "                           \"criterion\":[\"entropy\", \"gini\"],\n",
    "                            \"max_depth\": [2,5,10],\n",
    "                            \"max_features\": [\"log2\", \"sqrt\"],\n",
    "                            \"min_samples_leaf\": [1,5,8],\n",
    "                            \"min_samples_split\": [2,3,5]\n",
    "                           }\n",
    "        \n",
    "        \n",
    "    },\n",
    "    {\n",
    "        \"name\":\"StochasticGradientDescent\",\n",
    "        \"estimator\":SGDClassifier(random_state=1),\n",
    "        \"hyperparameters\": {\"loss\": [\"hinge\", \"log\", \"modified_huber\", \"squared_hinge\", \"perceptron\"],\n",
    "                            \"penalty\": [\"l2\", \"l1\", \"elasticnet\"]}\n",
    "    },\n",
    "        \n",
    "    ]\n",
    "    \n",
    "    for model in models:\n",
    "        print(model[\"name\"])\n",
    "        print(\"-\"*len(model[\"name\"]))\n",
    "        \n",
    "        grid= GridSearchCV( model[\"estimator\"],\n",
    "                          param_grid= model[\"hyperparameters\"], cv=10)\n",
    "        grid.fit(all_X, all_y)\n",
    "        model[\"best_params\"]= grid.best_params_\n",
    "        model[\"best_score\"]= grid.best_score_\n",
    "        model[\"best_model\"]= grid.best_estimator_\n",
    "        \n",
    "        print(\"Best Score: {}\".format(model[\"best_score\"]))\n",
    "        print(\"Best Parameters: {}\\n\".format(model[\"best_params\"]))\n",
    "    return models"
   ]
  },
  {
   "cell_type": "code",
   "execution_count": null,
   "metadata": {},
   "outputs": [],
   "source": [
    "result= select_model(train, cols)"
   ]
  },
  {
   "cell_type": "code",
   "execution_count": null,
   "metadata": {},
   "outputs": [],
   "source": [
    "def save_submission_file(model, cols, filename= \"lastsubmission.csv\"):\n",
    "    holdout_data= holdout[cols]\n",
    "    predictions= model.predict(holdout_data)\n",
    "    \n",
    "    holdout_ids= holdout[\"PassengerId\"]\n",
    "    submission_df= {\"PassengerId\": holdout_ids,\n",
    "                   \"Survived\": predictions}\n",
    "    submission= pd.DataFrame(submission_df)\n",
    "    submission.to_csv(filename, index=False)\n",
    "    "
   ]
  },
  {
   "cell_type": "code",
   "execution_count": null,
   "metadata": {},
   "outputs": [],
   "source": [
    "best_rf_model= result[2][\"best_model\"]\n",
    "save_submission_file(best_rf_model, cols)"
   ]
  }
 ],
 "metadata": {
  "kernelspec": {
   "display_name": "Python 3",
   "language": "python",
   "name": "python3"
  },
  "language_info": {
   "codemirror_mode": {
    "name": "ipython",
    "version": 3
   },
   "file_extension": ".py",
   "mimetype": "text/x-python",
   "name": "python",
   "nbconvert_exporter": "python",
   "pygments_lexer": "ipython3",
   "version": "3.7.6"
  }
 },
 "nbformat": 4,
 "nbformat_minor": 2
}
